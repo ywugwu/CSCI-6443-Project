{
 "cells": [
  {
   "cell_type": "code",
   "execution_count": 72,
   "metadata": {},
   "outputs": [],
   "source": [
    "import os\n",
    "import numpy as np\n",
    "import pandas as pd"
   ]
  },
  {
   "cell_type": "code",
   "execution_count": 73,
   "metadata": {},
   "outputs": [],
   "source": [
    "import pandas as pd\n",
    "import numpy as np\n",
    "import seaborn as sns\n",
    "import matplotlib.pyplot as plt\n",
    "from tqdm.notebook import tqdm\n",
    "def smape(y_true, y_pred):\n",
    "    smap = np.zeros(len(y_true))\n",
    "    \n",
    "    num = np.abs(y_true - y_pred)\n",
    "    dem = ((np.abs(y_true) + np.abs(y_pred)) / 2)\n",
    "    \n",
    "    pos_ind = (y_true!=0)|(y_pred!=0)\n",
    "    smap[pos_ind] = num[pos_ind] / dem[pos_ind]\n",
    "    \n",
    "    return 100 * np.mean(smap)\n",
    "\n",
    "def vsmape(y_true, y_pred):\n",
    "    smap = np.zeros(len(y_true))\n",
    "    \n",
    "    num = np.abs(y_true - y_pred)\n",
    "    dem = ((np.abs(y_true) + np.abs(y_pred)) / 2)\n",
    "    \n",
    "    pos_ind = (y_true!=0)|(y_pred!=0)\n",
    "    smap[pos_ind] = num[pos_ind] / dem[pos_ind]\n",
    "    \n",
    "    return 100 * smap\n",
    "    "
   ]
  },
  {
   "cell_type": "code",
   "execution_count": 74,
   "metadata": {},
   "outputs": [
    {
     "name": "stdout",
     "output_type": "stream",
     "text": [
      "final_sub/0.csv\n",
      "final_sub/.DS_Store\n",
      "final_sub/1.csv\n",
      "final_sub/3.csv\n",
      "[0.25, 0.5, 0.25] 1.0\n",
      "0.03947934475965739\n",
      "0.033909863908165624\n",
      "0.013160612476369711\n"
     ]
    }
   ],
   "source": [
    "subs = []\n",
    "scores = []\n",
    "for f in os.listdir('final_sub'):\n",
    "    print('final_sub/'+f)\n",
    "    if '.csv' in f:\n",
    "        # scores.append(1/(float(f[:5])-13720))\n",
    "        df = pd.read_csv('final_sub/'+f)\n",
    "        subs.append(df)\n",
    "# scores = np.array(scores)\n",
    "# scores /= np.sum(scores)\n",
    "\n",
    "scores = [1/4,1/2,1/4]\n",
    "print(scores,sum(scores))\n",
    "\n",
    "for i in range(len(subs)):\n",
    "    for j in range(i+1,len(subs)):\n",
    "        print(smape(subs[i].microbusiness_density,subs[j].microbusiness_density))"
   ]
  },
  {
   "cell_type": "code",
   "execution_count": 75,
   "metadata": {},
   "outputs": [
    {
     "name": "stdout",
     "output_type": "stream",
     "text": [
      "0.09794208718832886\n",
      "0.07664517290159129\n",
      "0.07676113488018639\n"
     ]
    },
    {
     "name": "stderr",
     "output_type": "stream",
     "text": [
      "/var/folders/y4/9bc9208j79x5x1q7xs1g71kc0000gn/T/ipykernel_69031/1251963160.py:8: DtypeWarning: Columns (102) have mixed types. Specify dtype option on import or set low_memory=False.\n",
      "  df2021 = pd.read_csv('data/ACSST5Y2021.S0101-Data.csv', usecols=column_names)\n"
     ]
    },
    {
     "data": {
      "text/plain": [
       "0.09794208718832886"
      ]
     },
     "execution_count": 75,
     "metadata": {},
     "output_type": "execute_result"
    }
   ],
   "source": [
    "test = pd.read_csv('sub/13724.csv')\n",
    "# test = pd.concat(subs,axis=0).groupby('row_id').mean().reset_index()\n",
    "test.microbusiness_density = sum([subs[i].microbusiness_density.values * scores[i] for i in range(len(subs))])\n",
    "\n",
    "test['cfips'] = test['row_id'].map(lambda x: int(x.split('_')[0]))\n",
    "\n",
    "column_names = ['GEO_ID','NAME','S0101_C01_026E']\n",
    "df2021 = pd.read_csv('data/ACSST5Y2021.S0101-Data.csv', usecols=column_names)\n",
    "df2021 = df2021.iloc[1:]\n",
    "df2021['S0101_C01_026E'] = df2021['S0101_C01_026E'].astype('int')\n",
    "df2021['cfips'] = df2021.GEO_ID.apply(lambda x: int(x.split('US')[-1]))\n",
    "adult2021 = df2021.set_index('cfips').S0101_C01_026E.to_dict()\n",
    "\n",
    "test['adult2021'] = test['cfips'].map(adult2021)\n",
    "\n",
    "# rounding to the nearest integer\n",
    "test['microbusiness_density'] = (\n",
    "    np.round(test['microbusiness_density'] * test['adult2021'] / 100) / test['adult2021'] * 100\n",
    ")\n",
    "for i in range(3):\n",
    "    print(smape(test.microbusiness_density,subs[i].microbusiness_density))\n",
    "\n",
    "subs[0].microbusiness_density = test.microbusiness_density\n",
    "subs[0].to_csv('merge_submission.csv',index=False)\n",
    "\n",
    "baseline = pd.read_csv('final_submission.csv')\n",
    "smape(subs[0].microbusiness_density.values,baseline.microbusiness_density.values)"
   ]
  },
  {
   "cell_type": "code",
   "execution_count": 76,
   "metadata": {},
   "outputs": [
    {
     "data": {
      "text/plain": [
       "<AxesSubplot:>"
      ]
     },
     "execution_count": 76,
     "metadata": {},
     "output_type": "execute_result"
    },
    {
     "data": {
      "image/png": "[encoded data removed]",
      "text/plain": [
       "<Figure size 640x480 with 1 Axes>"
      ]
     },
     "metadata": {},
     "output_type": "display_data"
    }
   ],
   "source": [
    "import seaborn as sns\n",
    "\n",
    "sns.lineplot(baseline[baseline.row_id.str.contains('55021')].microbusiness_density.values)"
   ]
  },
  {
   "cell_type": "code",
   "execution_count": 77,
   "metadata": {},
   "outputs": [
    {
     "data": {
      "text/plain": [
       "(0        3.442999\n",
       " 1        3.470003\n",
       " 2        3.337234\n",
       " 3        3.350736\n",
       " 4        3.361987\n",
       "            ...   \n",
       " 25075    1.836698\n",
       " 25076    1.836698\n",
       " 25077    1.836698\n",
       " 25078    1.836698\n",
       " 25079    1.836698\n",
       " Name: microbusiness_density, Length: 25080, dtype: float64,\n",
       " 0        3.442677\n",
       " 1        3.470915\n",
       " 2        3.337234\n",
       " 3        3.348486\n",
       " 4        3.359737\n",
       "            ...   \n",
       " 25075    1.836698\n",
       " 25076    1.836698\n",
       " 25077    1.836698\n",
       " 25078    1.836698\n",
       " 25079    1.836698\n",
       " Name: microbusiness_density, Length: 25080, dtype: float64)"
      ]
     },
     "execution_count": 77,
     "metadata": {},
     "output_type": "execute_result"
    }
   ],
   "source": [
    "subs[0].microbusiness_density,baseline.microbusiness_density"
   ]
  },
  {
   "cell_type": "code",
   "execution_count": 78,
   "metadata": {},
   "outputs": [
    {
     "data": {
      "text/html": [
       "<div>\n",
       "<style scoped>\n",
       "    .dataframe tbody tr th:only-of-type {\n",
       "        vertical-align: middle;\n",
       "    }\n",
       "\n",
       "    .dataframe tbody tr th {\n",
       "        vertical-align: top;\n",
       "    }\n",
       "\n",
       "    .dataframe thead th {\n",
       "        text-align: right;\n",
       "    }\n",
       "</style>\n",
       "<table border=\"1\" class=\"dataframe\">\n",
       "  <thead>\n",
       "    <tr style=\"text-align: right;\">\n",
       "      <th></th>\n",
       "      <th>row_id</th>\n",
       "      <th>microbusiness_density</th>\n",
       "      <th>row_id</th>\n",
       "      <th>microbusiness_density</th>\n",
       "    </tr>\n",
       "  </thead>\n",
       "  <tbody>\n",
       "    <tr>\n",
       "      <th>0</th>\n",
       "      <td>1001_2022-11-01</td>\n",
       "      <td>3.442999</td>\n",
       "      <td>1001_2022-11-01</td>\n",
       "      <td>3.442677</td>\n",
       "    </tr>\n",
       "    <tr>\n",
       "      <th>1</th>\n",
       "      <td>1001_2022-12-01</td>\n",
       "      <td>3.470003</td>\n",
       "      <td>1001_2022-12-01</td>\n",
       "      <td>3.470915</td>\n",
       "    </tr>\n",
       "    <tr>\n",
       "      <th>2</th>\n",
       "      <td>1001_2023-01-01</td>\n",
       "      <td>3.337234</td>\n",
       "      <td>1001_2023-01-01</td>\n",
       "      <td>3.337234</td>\n",
       "    </tr>\n",
       "    <tr>\n",
       "      <th>3</th>\n",
       "      <td>1001_2023-02-01</td>\n",
       "      <td>3.350736</td>\n",
       "      <td>1001_2023-02-01</td>\n",
       "      <td>3.348486</td>\n",
       "    </tr>\n",
       "    <tr>\n",
       "      <th>4</th>\n",
       "      <td>1001_2023-03-01</td>\n",
       "      <td>3.361987</td>\n",
       "      <td>1001_2023-03-01</td>\n",
       "      <td>3.359737</td>\n",
       "    </tr>\n",
       "    <tr>\n",
       "      <th>...</th>\n",
       "      <td>...</td>\n",
       "      <td>...</td>\n",
       "      <td>...</td>\n",
       "      <td>...</td>\n",
       "    </tr>\n",
       "    <tr>\n",
       "      <th>25075</th>\n",
       "      <td>56045_2023-02-01</td>\n",
       "      <td>1.836698</td>\n",
       "      <td>56045_2023-02-01</td>\n",
       "      <td>1.836698</td>\n",
       "    </tr>\n",
       "    <tr>\n",
       "      <th>25076</th>\n",
       "      <td>56045_2023-03-01</td>\n",
       "      <td>1.836698</td>\n",
       "      <td>56045_2023-03-01</td>\n",
       "      <td>1.836698</td>\n",
       "    </tr>\n",
       "    <tr>\n",
       "      <th>25077</th>\n",
       "      <td>56045_2023-04-01</td>\n",
       "      <td>1.836698</td>\n",
       "      <td>56045_2023-04-01</td>\n",
       "      <td>1.836698</td>\n",
       "    </tr>\n",
       "    <tr>\n",
       "      <th>25078</th>\n",
       "      <td>56045_2023-05-01</td>\n",
       "      <td>1.836698</td>\n",
       "      <td>56045_2023-05-01</td>\n",
       "      <td>1.836698</td>\n",
       "    </tr>\n",
       "    <tr>\n",
       "      <th>25079</th>\n",
       "      <td>56045_2023-06-01</td>\n",
       "      <td>1.836698</td>\n",
       "      <td>56045_2023-06-01</td>\n",
       "      <td>1.836698</td>\n",
       "    </tr>\n",
       "  </tbody>\n",
       "</table>\n",
       "<p>25080 rows × 4 columns</p>\n",
       "</div>"
      ],
      "text/plain": [
       "                 row_id  microbusiness_density            row_id  \\\n",
       "0       1001_2022-11-01               3.442999   1001_2022-11-01   \n",
       "1       1001_2022-12-01               3.470003   1001_2022-12-01   \n",
       "2       1001_2023-01-01               3.337234   1001_2023-01-01   \n",
       "3       1001_2023-02-01               3.350736   1001_2023-02-01   \n",
       "4       1001_2023-03-01               3.361987   1001_2023-03-01   \n",
       "...                 ...                    ...               ...   \n",
       "25075  56045_2023-02-01               1.836698  56045_2023-02-01   \n",
       "25076  56045_2023-03-01               1.836698  56045_2023-03-01   \n",
       "25077  56045_2023-04-01               1.836698  56045_2023-04-01   \n",
       "25078  56045_2023-05-01               1.836698  56045_2023-05-01   \n",
       "25079  56045_2023-06-01               1.836698  56045_2023-06-01   \n",
       "\n",
       "       microbusiness_density  \n",
       "0                   3.442677  \n",
       "1                   3.470915  \n",
       "2                   3.337234  \n",
       "3                   3.348486  \n",
       "4                   3.359737  \n",
       "...                      ...  \n",
       "25075               1.836698  \n",
       "25076               1.836698  \n",
       "25077               1.836698  \n",
       "25078               1.836698  \n",
       "25079               1.836698  \n",
       "\n",
       "[25080 rows x 4 columns]"
      ]
     },
     "execution_count": 78,
     "metadata": {},
     "output_type": "execute_result"
    }
   ],
   "source": [
    "pd.concat([subs[0],baseline],axis=1)"
   ]
  },
  {
   "cell_type": "code",
   "execution_count": 79,
   "metadata": {},
   "outputs": [
    {
     "data": {
      "text/plain": [
       "0.012094437207247559"
      ]
     },
     "execution_count": 79,
     "metadata": {},
     "output_type": "execute_result"
    }
   ],
   "source": [
    "baseline = pd.read_csv('data/best_score_13724.csv')\n",
    "baseline2 = pd.read_csv('merge_submission.csv')\n",
    "smape(baseline2[baseline2.row_id.str.contains('2023-01-01')].microbusiness_density.values,baseline[baseline.row_id.str.contains('2023-01-01')].microbusiness_density.values)"
   ]
  },
  {
   "cell_type": "code",
   "execution_count": 80,
   "metadata": {},
   "outputs": [
    {
     "data": {
      "text/html": [
       "<div>\n",
       "<style scoped>\n",
       "    .dataframe tbody tr th:only-of-type {\n",
       "        vertical-align: middle;\n",
       "    }\n",
       "\n",
       "    .dataframe tbody tr th {\n",
       "        vertical-align: top;\n",
       "    }\n",
       "\n",
       "    .dataframe thead th {\n",
       "        text-align: right;\n",
       "    }\n",
       "</style>\n",
       "<table border=\"1\" class=\"dataframe\">\n",
       "  <thead>\n",
       "    <tr style=\"text-align: right;\">\n",
       "      <th></th>\n",
       "      <th>row_id</th>\n",
       "      <th>microbusiness_density</th>\n",
       "      <th>cfips</th>\n",
       "      <th>adult2021</th>\n",
       "    </tr>\n",
       "  </thead>\n",
       "  <tbody>\n",
       "    <tr>\n",
       "      <th>0</th>\n",
       "      <td>1001_2022-11-01</td>\n",
       "      <td>3.442999</td>\n",
       "      <td>1001</td>\n",
       "      <td>44438</td>\n",
       "    </tr>\n",
       "    <tr>\n",
       "      <th>1</th>\n",
       "      <td>1001_2022-12-01</td>\n",
       "      <td>3.470003</td>\n",
       "      <td>1001</td>\n",
       "      <td>44438</td>\n",
       "    </tr>\n",
       "    <tr>\n",
       "      <th>2</th>\n",
       "      <td>1001_2023-01-01</td>\n",
       "      <td>3.337234</td>\n",
       "      <td>1001</td>\n",
       "      <td>44438</td>\n",
       "    </tr>\n",
       "    <tr>\n",
       "      <th>3</th>\n",
       "      <td>1001_2023-02-01</td>\n",
       "      <td>3.350736</td>\n",
       "      <td>1001</td>\n",
       "      <td>44438</td>\n",
       "    </tr>\n",
       "    <tr>\n",
       "      <th>4</th>\n",
       "      <td>1001_2023-03-01</td>\n",
       "      <td>3.361987</td>\n",
       "      <td>1001</td>\n",
       "      <td>44438</td>\n",
       "    </tr>\n",
       "    <tr>\n",
       "      <th>...</th>\n",
       "      <td>...</td>\n",
       "      <td>...</td>\n",
       "      <td>...</td>\n",
       "      <td>...</td>\n",
       "    </tr>\n",
       "    <tr>\n",
       "      <th>25075</th>\n",
       "      <td>56045_2023-02-01</td>\n",
       "      <td>1.836698</td>\n",
       "      <td>56045</td>\n",
       "      <td>5499</td>\n",
       "    </tr>\n",
       "    <tr>\n",
       "      <th>25076</th>\n",
       "      <td>56045_2023-03-01</td>\n",
       "      <td>1.836698</td>\n",
       "      <td>56045</td>\n",
       "      <td>5499</td>\n",
       "    </tr>\n",
       "    <tr>\n",
       "      <th>25077</th>\n",
       "      <td>56045_2023-04-01</td>\n",
       "      <td>1.836698</td>\n",
       "      <td>56045</td>\n",
       "      <td>5499</td>\n",
       "    </tr>\n",
       "    <tr>\n",
       "      <th>25078</th>\n",
       "      <td>56045_2023-05-01</td>\n",
       "      <td>1.836698</td>\n",
       "      <td>56045</td>\n",
       "      <td>5499</td>\n",
       "    </tr>\n",
       "    <tr>\n",
       "      <th>25079</th>\n",
       "      <td>56045_2023-06-01</td>\n",
       "      <td>1.836698</td>\n",
       "      <td>56045</td>\n",
       "      <td>5499</td>\n",
       "    </tr>\n",
       "  </tbody>\n",
       "</table>\n",
       "<p>25080 rows × 4 columns</p>\n",
       "</div>"
      ],
      "text/plain": [
       "                 row_id  microbusiness_density  cfips  adult2021\n",
       "0       1001_2022-11-01               3.442999   1001      44438\n",
       "1       1001_2022-12-01               3.470003   1001      44438\n",
       "2       1001_2023-01-01               3.337234   1001      44438\n",
       "3       1001_2023-02-01               3.350736   1001      44438\n",
       "4       1001_2023-03-01               3.361987   1001      44438\n",
       "...                 ...                    ...    ...        ...\n",
       "25075  56045_2023-02-01               1.836698  56045       5499\n",
       "25076  56045_2023-03-01               1.836698  56045       5499\n",
       "25077  56045_2023-04-01               1.836698  56045       5499\n",
       "25078  56045_2023-05-01               1.836698  56045       5499\n",
       "25079  56045_2023-06-01               1.836698  56045       5499\n",
       "\n",
       "[25080 rows x 4 columns]"
      ]
     },
     "execution_count": 80,
     "metadata": {},
     "output_type": "execute_result"
    }
   ],
   "source": [
    "test"
   ]
  },
  {
   "cell_type": "markdown",
   "metadata": {},
   "source": []
  },
  {
   "cell_type": "code",
   "execution_count": null,
   "metadata": {},
   "outputs": [],
   "source": []
  }
 ],
 "metadata": {
  "kernelspec": {
   "display_name": "Python 3.9.13 ('base')",
   "language": "python",
   "name": "python3"
  },
  "language_info": {
   "codemirror_mode": {
    "name": "ipython",
    "version": 3
   },
   "file_extension": ".py",
   "mimetype": "text/x-python",
   "name": "python",
   "nbconvert_exporter": "python",
   "pygments_lexer": "ipython3",
   "version": "3.9.13"
  },
  "orig_nbformat": 4,
  "vscode": {
   "interpreter": {
    "hash": "a4512ac2299495fb8d5959992bd9a0216c08a180f022f419448ddbbfb0bcfa31"
   }
  }
 },
 "nbformat": 4,
 "nbformat_minor": 2
}
