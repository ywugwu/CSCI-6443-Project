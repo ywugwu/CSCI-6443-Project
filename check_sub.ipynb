{
 "cells": [
  {
   "cell_type": "code",
   "execution_count": 2,
   "metadata": {},
   "outputs": [
    {
     "name": "stdout",
     "output_type": "stream",
     "text": [
      "25080\n",
      "Checking 2023-03-01\n",
      "Checking 2023-04-01\n",
      "Checking 2023-05-01\n",
      "If no warnings were stated, all tests above passed.\n"
     ]
    }
   ],
   "source": [
    "import numpy as np # linear algebra\n",
    "import pandas as pd # data processing, CSV file I/O (e.g. pd.read_csv)\n",
    "\n",
    "train = pd.read_csv(\"data/train.csv\")\n",
    "tr_unq_cfips = list(train.cfips.unique())\n",
    "tr_unq_count = len(tr_unq_cfips)\n",
    "\n",
    "#change this to your submission file\n",
    "fname = \"round_submission.csv\" \n",
    "\n",
    "df = pd.read_csv(fname)\n",
    "print(len(df))\n",
    "\n",
    "#err case testing\n",
    "#df.loc[12540, 'microbusiness_density']=np.Inf\n",
    "#df.loc[12540, 'microbusiness_density']=np.NaN\n",
    "#df = df.append({'row_id':\"1001_2023-03-01\", 'microbusiness_density':np.NaN}, ignore_index = True)\n",
    "#df = df.append({'row_id':\"999444_2023-03-01\", 'microbusiness_density':43}, ignore_index = True)\n",
    "#df = df.drop(12540)\n",
    "\n",
    "df = df.replace([np.inf, -np.inf], np.nan)\n",
    "if len(df.dropna()) != len(df):\n",
    "    print(\"Warning, inf or nan values in submission, count is\", len(df) - len(df.dropna()))\n",
    "\n",
    "if len(df.columns) != 2:\n",
    "    print(\"Warning, should ideally be two columns is \", len(df.columns))\n",
    "\n",
    "if df.columns[0] != 'row_id':\n",
    "    print(\"Warning, first columns should ideally be 'row_id' is\", df.columns[0])\n",
    "\n",
    "if df.columns[1] != 'microbusiness_density':\n",
    "    print(\"Warning, second column should ideally be 'microbusiness_density' is\", df.columns[1])\n",
    "\n",
    "df['first_day_of_month'] = df['row_id'].apply(lambda x:x[-10:])\n",
    "df['cfips'] = df['row_id'].apply(lambda x:int(x[:x.index(\"_\")]))\n",
    "\n",
    "for d in [\"2023-03-01\",\"2023-04-01\",\"2023-05-01\"]:\n",
    "    print(\"Checking\",d)\n",
    "    dfd = df.query(f\"first_day_of_month == '{d}'\")\n",
    "\n",
    "    sub_unq_cfips = list(dfd['cfips'].unique())\n",
    "    sub_unq_count = len(sub_unq_cfips)\n",
    "    if sub_unq_count != tr_unq_count:\n",
    "        print(f\"Invalid unique number of cfips for {d}, should be {tr_unq_count}\", sub_unq_count)\n",
    "\n",
    "    tset = set(sub_unq_cfips+tr_unq_cfips)\n",
    "    tset_count = len(tset)\n",
    "    if  tset_count != tr_unq_count:\n",
    "        print(f\"Invalid cfips are included for {d}, set size mismatch should be {tr_unq_count} is \", tset_count)\n",
    "\n",
    "    l = len(dfd)\n",
    "    if l != tr_unq_count:\n",
    "        print(f\"Invalid # of predictions for date {d}, should be {tr_unq_count} is \", l)\n",
    "\n",
    "print(\"If no warnings were stated, all tests above passed.\")"
   ]
  },
  {
   "cell_type": "code",
   "execution_count": null,
   "metadata": {},
   "outputs": [],
   "source": []
  }
 ],
 "metadata": {
  "kernelspec": {
   "display_name": "Python 3.9.13 ('base')",
   "language": "python",
   "name": "python3"
  },
  "language_info": {
   "codemirror_mode": {
    "name": "ipython",
    "version": 3
   },
   "file_extension": ".py",
   "mimetype": "text/x-python",
   "name": "python",
   "nbconvert_exporter": "python",
   "pygments_lexer": "ipython3",
   "version": "3.9.13"
  },
  "orig_nbformat": 4,
  "vscode": {
   "interpreter": {
    "hash": "a4512ac2299495fb8d5959992bd9a0216c08a180f022f419448ddbbfb0bcfa31"
   }
  }
 },
 "nbformat": 4,
 "nbformat_minor": 2
}
