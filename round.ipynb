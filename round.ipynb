{
 "cells": [
  {
   "cell_type": "code",
   "execution_count": 5,
   "metadata": {},
   "outputs": [
    {
     "name": "stderr",
     "output_type": "stream",
     "text": [
      "/var/folders/y4/9bc9208j79x5x1q7xs1g71kc0000gn/T/ipykernel_90630/2993991181.py:10: DtypeWarning: Columns (102) have mixed types. Specify dtype option on import or set low_memory=False.\n",
      "  df2021 = pd.read_csv('data/ACSST5Y2021.S0101-Data.csv', usecols=column_names)\n"
     ]
    }
   ],
   "source": [
    "import pandas as pd\n",
    "import numpy as np\n",
    "\n",
    "# submission from\n",
    "submission = pd.read_csv('submission-tmp.csv')\n",
    "submission['cfips'] = submission['row_id'].map(lambda x: int(x.split('_')[0]))\n",
    "\n",
    "# get adult_population\n",
    "column_names = ['GEO_ID','NAME','S0101_C01_026E']\n",
    "df2021 = pd.read_csv('data/ACSST5Y2021.S0101-Data.csv', usecols=column_names)\n",
    "df2021 = df2021.iloc[1:]\n",
    "df2021['S0101_C01_026E'] = df2021['S0101_C01_026E'].astype('int')\n",
    "df2021['cfips'] = df2021.GEO_ID.apply(lambda x: int(x.split('US')[-1]))\n",
    "adult2021 = df2021.set_index('cfips').S0101_C01_026E.to_dict()\n",
    "\n",
    "submission['adult2021'] = submission['cfips'].map(adult2021)\n",
    "\n",
    "# rounding to the nearest integer\n",
    "submission['microbusiness_density'] = (\n",
    "    np.round(submission['microbusiness_density'] * submission['adult2021'] / 100) / submission['adult2021'] * 100\n",
    ")\n",
    "\n",
    "submission[['row_id', 'microbusiness_density']].to_csv('round_submission.csv', index=False)"
   ]
  },
  {
   "cell_type": "code",
   "execution_count": 1,
   "metadata": {},
   "outputs": [
    {
     "name": "stdout",
     "output_type": "stream",
     "text": [
      "8\n",
      "(4, 9)\n"
     ]
    }
   ],
   "source": [
    "x = \"10101011110101\"\n",
    "y = \"10101110001010\"\n",
    "\n",
    "def l1(a,b):\n",
    "    cnt = 0\n",
    "    for i in range(len(a)):\n",
    "        if a[i]!=b[i]:\n",
    "            cnt += 1\n",
    "    return cnt\n",
    "\n",
    "def jac(a,b):\n",
    "    cnt2=cnt1=0\n",
    "    for i in range(len(a)):\n",
    "        if a[i]=='1' or b[i]==1:\n",
    "            cnt2 += 1\n",
    "            if a[i]==b[i]:\n",
    "                cnt1+=1\n",
    "    return cnt1,cnt2\n",
    "\n",
    "print(l1(x,y))\n",
    "print(jac(x,y))"
   ]
  },
  {
   "cell_type": "code",
   "execution_count": null,
   "metadata": {},
   "outputs": [],
   "source": []
  }
 ],
 "metadata": {
  "kernelspec": {
   "display_name": "Python 3.9.13 ('base')",
   "language": "python",
   "name": "python3"
  },
  "language_info": {
   "codemirror_mode": {
    "name": "ipython",
    "version": 3
   },
   "file_extension": ".py",
   "mimetype": "text/x-python",
   "name": "python",
   "nbconvert_exporter": "python",
   "pygments_lexer": "ipython3",
   "version": "3.9.13"
  },
  "orig_nbformat": 4,
  "vscode": {
   "interpreter": {
    "hash": "a4512ac2299495fb8d5959992bd9a0216c08a180f022f419448ddbbfb0bcfa31"
   }
  }
 },
 "nbformat": 4,
 "nbformat_minor": 2
}
